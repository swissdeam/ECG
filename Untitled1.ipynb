{
 "cells": [
  {
   "cell_type": "code",
   "execution_count": 3,
   "id": "094c7a53-9b3f-4858-a5f6-af8b3a49b08a",
   "metadata": {},
   "outputs": [],
   "source": [
    "import neurokit2 as nk\n",
    "import numpy as np\n",
    "import pandas as pd"
   ]
  },
  {
   "cell_type": "code",
   "execution_count": 5,
   "id": "65112219-ca92-4632-b03b-f3425c436f39",
   "metadata": {},
   "outputs": [
    {
     "data": {
      "text/html": [
       "<div>\n",
       "<style scoped>\n",
       "    .dataframe tbody tr th:only-of-type {\n",
       "        vertical-align: middle;\n",
       "    }\n",
       "\n",
       "    .dataframe tbody tr th {\n",
       "        vertical-align: top;\n",
       "    }\n",
       "\n",
       "    .dataframe thead th {\n",
       "        text-align: right;\n",
       "    }\n",
       "</style>\n",
       "<table border=\"1\" class=\"dataframe\">\n",
       "  <thead>\n",
       "    <tr style=\"text-align: right;\">\n",
       "      <th></th>\n",
       "      <th>0</th>\n",
       "      <th>spaces</th>\n",
       "      <th>digits</th>\n",
       "      <th>digits_int</th>\n",
       "    </tr>\n",
       "  </thead>\n",
       "  <tbody>\n",
       "    <tr>\n",
       "      <th>0</th>\n",
       "      <td>0</td>\n",
       "      <td>0</td>\n",
       "      <td>0.000000</td>\n",
       "      <td>0</td>\n",
       "    </tr>\n",
       "    <tr>\n",
       "      <th>1</th>\n",
       "      <td>0</td>\n",
       "      <td>0</td>\n",
       "      <td>0.000000</td>\n",
       "      <td>0</td>\n",
       "    </tr>\n",
       "    <tr>\n",
       "      <th>2</th>\n",
       "      <td>0</td>\n",
       "      <td>0</td>\n",
       "      <td>0.000000</td>\n",
       "      <td>0</td>\n",
       "    </tr>\n",
       "    <tr>\n",
       "      <th>3</th>\n",
       "      <td>0</td>\n",
       "      <td>0</td>\n",
       "      <td>0.000000</td>\n",
       "      <td>0</td>\n",
       "    </tr>\n",
       "    <tr>\n",
       "      <th>4</th>\n",
       "      <td>0</td>\n",
       "      <td>0</td>\n",
       "      <td>0.000000</td>\n",
       "      <td>0</td>\n",
       "    </tr>\n",
       "    <tr>\n",
       "      <th>...</th>\n",
       "      <td>...</td>\n",
       "      <td>...</td>\n",
       "      <td>...</td>\n",
       "      <td>...</td>\n",
       "    </tr>\n",
       "    <tr>\n",
       "      <th>19954</th>\n",
       "      <td>-398,999336823821</td>\n",
       "      <td>-398.999336823821</td>\n",
       "      <td>-398.999337</td>\n",
       "      <td>-398</td>\n",
       "    </tr>\n",
       "    <tr>\n",
       "      <th>19955</th>\n",
       "      <td>-19299,9754803106</td>\n",
       "      <td>-19299.9754803106</td>\n",
       "      <td>-19299.975480</td>\n",
       "      <td>-19299</td>\n",
       "    </tr>\n",
       "    <tr>\n",
       "      <th>19956</th>\n",
       "      <td>-36694,3092378378</td>\n",
       "      <td>-36694.3092378378</td>\n",
       "      <td>-36694.309238</td>\n",
       "      <td>-36694</td>\n",
       "    </tr>\n",
       "    <tr>\n",
       "      <th>19957</th>\n",
       "      <td>-40503,9451879263</td>\n",
       "      <td>-40503.9451879263</td>\n",
       "      <td>-40503.945188</td>\n",
       "      <td>-40503</td>\n",
       "    </tr>\n",
       "    <tr>\n",
       "      <th>19958</th>\n",
       "      <td>-34868,2448365688</td>\n",
       "      <td>-34868.2448365688</td>\n",
       "      <td>-34868.244837</td>\n",
       "      <td>-34868</td>\n",
       "    </tr>\n",
       "  </tbody>\n",
       "</table>\n",
       "<p>19959 rows × 4 columns</p>\n",
       "</div>"
      ],
      "text/plain": [
       "                       0             spaces        digits  digits_int\n",
       "0                      0                  0      0.000000           0\n",
       "1                      0                  0      0.000000           0\n",
       "2                      0                  0      0.000000           0\n",
       "3                      0                  0      0.000000           0\n",
       "4                      0                  0      0.000000           0\n",
       "...                  ...                ...           ...         ...\n",
       "19954  -398,999336823821  -398.999336823821   -398.999337        -398\n",
       "19955  -19299,9754803106  -19299.9754803106 -19299.975480      -19299\n",
       "19956  -36694,3092378378  -36694.3092378378 -36694.309238      -36694\n",
       "19957  -40503,9451879263  -40503.9451879263 -40503.945188      -40503\n",
       "19958  -34868,2448365688  -34868.2448365688 -34868.244837      -34868\n",
       "\n",
       "[19959 rows x 4 columns]"
      ]
     },
     "execution_count": 5,
     "metadata": {},
     "output_type": "execute_result"
    }
   ],
   "source": [
    "ecg_data = pd.read_csv(\"ECG_22_f.csv\", sep='\\t', on_bad_lines='skip')\n",
    "\n",
    "\n",
    "\n",
    "ecg_data['spaces'] = ecg_data['0'].str.strip()\n",
    "ecg_data['spaces'] = ecg_data['spaces'].str.replace(',', '.')\n",
    "ecg_data['digits'] = pd.to_numeric(ecg_data['spaces'], errors='coerce') \n",
    "ecg_data['digits_int'] = ecg_data['digits'].astype(int)\n",
    "ecg_data"
   ]
  },
  {
   "cell_type": "code",
   "execution_count": 6,
   "id": "195d9e34-3968-43cb-a859-ab108e4e6d61",
   "metadata": {},
   "outputs": [
    {
     "ename": "AttributeError",
     "evalue": "'DataFrame' object has no attribute 'lower'",
     "output_type": "error",
     "traceback": [
      "\u001b[1;31m---------------------------------------------------------------------------\u001b[0m",
      "\u001b[1;31mAttributeError\u001b[0m                            Traceback (most recent call last)",
      "\u001b[1;32m~\\AppData\\Local\\Temp\\ipykernel_20892\\1856736971.py\u001b[0m in \u001b[0;36m?\u001b[1;34m()\u001b[0m\n\u001b[0;32m      1\u001b[0m \u001b[1;31m# Retrieve ECG data from data folder\u001b[0m\u001b[1;33m\u001b[0m\u001b[1;33m\u001b[0m\u001b[0m\n\u001b[1;32m----> 2\u001b[1;33m \u001b[0mecg_signal\u001b[0m \u001b[1;33m=\u001b[0m \u001b[0mnk\u001b[0m\u001b[1;33m.\u001b[0m\u001b[0mdata\u001b[0m\u001b[1;33m(\u001b[0m\u001b[0mdataset\u001b[0m\u001b[1;33m=\u001b[0m\u001b[0mecg_data\u001b[0m\u001b[1;33m)\u001b[0m\u001b[1;33m\u001b[0m\u001b[1;33m\u001b[0m\u001b[0m\n\u001b[0m\u001b[0;32m      3\u001b[0m \u001b[1;31m# Extract R-peaks locations\u001b[0m\u001b[1;33m\u001b[0m\u001b[1;33m\u001b[0m\u001b[0m\n\u001b[0;32m      4\u001b[0m \u001b[0m_\u001b[0m\u001b[1;33m,\u001b[0m \u001b[0mrpeaks\u001b[0m \u001b[1;33m=\u001b[0m \u001b[0mnk\u001b[0m\u001b[1;33m.\u001b[0m\u001b[0mecg_peaks\u001b[0m\u001b[1;33m(\u001b[0m\u001b[0mecg_signal\u001b[0m\u001b[1;33m,\u001b[0m \u001b[0msampling_rate\u001b[0m\u001b[1;33m=\u001b[0m\u001b[1;36m1000\u001b[0m\u001b[1;33m)\u001b[0m\u001b[1;33m\u001b[0m\u001b[1;33m\u001b[0m\u001b[0m\n",
      "\u001b[1;32m~\\AppData\\Local\\Programs\\Python\\Python311\\Lib\\site-packages\\neurokit2\\data\\data.py\u001b[0m in \u001b[0;36m?\u001b[1;34m(dataset)\u001b[0m\n\u001b[0;32m    170\u001b[0m     \u001b[1;31m# TODO: one could further improve this function with like\u001b[0m\u001b[1;33m\u001b[0m\u001b[1;33m\u001b[0m\u001b[0m\n\u001b[0;32m    171\u001b[0m     \u001b[1;31m# selectors 'ecg=True, eda=True, restingstate=True' that would\u001b[0m\u001b[1;33m\u001b[0m\u001b[1;33m\u001b[0m\u001b[0m\n\u001b[0;32m    172\u001b[0m     \u001b[1;31m# find the most appropriate dataset\u001b[0m\u001b[1;33m\u001b[0m\u001b[1;33m\u001b[0m\u001b[0m\n\u001b[0;32m    173\u001b[0m \u001b[1;33m\u001b[0m\u001b[0m\n\u001b[1;32m--> 174\u001b[1;33m     \u001b[0mdataset\u001b[0m \u001b[1;33m=\u001b[0m \u001b[0mdataset\u001b[0m\u001b[1;33m.\u001b[0m\u001b[0mlower\u001b[0m\u001b[1;33m(\u001b[0m\u001b[1;33m)\u001b[0m\u001b[1;33m\u001b[0m\u001b[1;33m\u001b[0m\u001b[0m\n\u001b[0m\u001b[0;32m    175\u001b[0m \u001b[1;33m\u001b[0m\u001b[0m\n\u001b[0;32m    176\u001b[0m     \u001b[0mpath\u001b[0m \u001b[1;33m=\u001b[0m \u001b[1;34m\"https://raw.githubusercontent.com/neuropsychology/NeuroKit/master/data/\"\u001b[0m\u001b[1;33m\u001b[0m\u001b[1;33m\u001b[0m\u001b[0m\n\u001b[0;32m    177\u001b[0m \u001b[1;33m\u001b[0m\u001b[0m\n",
      "\u001b[1;32m~\\AppData\\Local\\Programs\\Python\\Python311\\Lib\\site-packages\\pandas\\core\\generic.py\u001b[0m in \u001b[0;36m?\u001b[1;34m(self, name)\u001b[0m\n\u001b[0;32m   6295\u001b[0m             \u001b[1;32mand\u001b[0m \u001b[0mname\u001b[0m \u001b[1;32mnot\u001b[0m \u001b[1;32min\u001b[0m \u001b[0mself\u001b[0m\u001b[1;33m.\u001b[0m\u001b[0m_accessors\u001b[0m\u001b[1;33m\u001b[0m\u001b[1;33m\u001b[0m\u001b[0m\n\u001b[0;32m   6296\u001b[0m             \u001b[1;32mand\u001b[0m \u001b[0mself\u001b[0m\u001b[1;33m.\u001b[0m\u001b[0m_info_axis\u001b[0m\u001b[1;33m.\u001b[0m\u001b[0m_can_hold_identifiers_and_holds_name\u001b[0m\u001b[1;33m(\u001b[0m\u001b[0mname\u001b[0m\u001b[1;33m)\u001b[0m\u001b[1;33m\u001b[0m\u001b[1;33m\u001b[0m\u001b[0m\n\u001b[0;32m   6297\u001b[0m         ):\n\u001b[0;32m   6298\u001b[0m             \u001b[1;32mreturn\u001b[0m \u001b[0mself\u001b[0m\u001b[1;33m[\u001b[0m\u001b[0mname\u001b[0m\u001b[1;33m]\u001b[0m\u001b[1;33m\u001b[0m\u001b[1;33m\u001b[0m\u001b[0m\n\u001b[1;32m-> 6299\u001b[1;33m         \u001b[1;32mreturn\u001b[0m \u001b[0mobject\u001b[0m\u001b[1;33m.\u001b[0m\u001b[0m__getattribute__\u001b[0m\u001b[1;33m(\u001b[0m\u001b[0mself\u001b[0m\u001b[1;33m,\u001b[0m \u001b[0mname\u001b[0m\u001b[1;33m)\u001b[0m\u001b[1;33m\u001b[0m\u001b[1;33m\u001b[0m\u001b[0m\n\u001b[0m",
      "\u001b[1;31mAttributeError\u001b[0m: 'DataFrame' object has no attribute 'lower'"
     ]
    }
   ],
   "source": [
    "# Retrieve ECG data from data folder\n",
    "ecg_signal = nk.data(dataset=ecg_data)\n",
    "# Extract R-peaks locations\n",
    "_, rpeaks = nk.ecg_peaks(ecg_signal, sampling_rate=1000)"
   ]
  },
  {
   "cell_type": "code",
   "execution_count": 7,
   "id": "f864b3c7-4ec0-45ef-866a-60c9b4a1ff35",
   "metadata": {},
   "outputs": [
    {
     "ename": "NameError",
     "evalue": "name 'rpeaks' is not defined",
     "output_type": "error",
     "traceback": [
      "\u001b[1;31m---------------------------------------------------------------------------\u001b[0m",
      "\u001b[1;31mNameError\u001b[0m                                 Traceback (most recent call last)",
      "Cell \u001b[1;32mIn[7], line 2\u001b[0m\n\u001b[0;32m      1\u001b[0m \u001b[38;5;66;03m# Visualize R-peaks in ECG signal\u001b[39;00m\n\u001b[1;32m----> 2\u001b[0m plot \u001b[38;5;241m=\u001b[39m nk\u001b[38;5;241m.\u001b[39mevents_plot(\u001b[43mrpeaks\u001b[49m[\u001b[38;5;124m'\u001b[39m\u001b[38;5;124mECG_R_Peaks\u001b[39m\u001b[38;5;124m'\u001b[39m], ecg_signal)\n",
      "\u001b[1;31mNameError\u001b[0m: name 'rpeaks' is not defined"
     ]
    }
   ],
   "source": [
    "# Visualize R-peaks in ECG signal\n",
    "plot = nk.events_plot(rpeaks['ECG_R_Peaks'], ecg_signal)"
   ]
  },
  {
   "cell_type": "code",
   "execution_count": null,
   "id": "3ec459bb-b4c0-46c3-95d6-f490868e1e5b",
   "metadata": {},
   "outputs": [],
   "source": []
  }
 ],
 "metadata": {
  "kernelspec": {
   "display_name": "Python 3 (ipykernel)",
   "language": "python",
   "name": "python3"
  },
  "language_info": {
   "codemirror_mode": {
    "name": "ipython",
    "version": 3
   },
   "file_extension": ".py",
   "mimetype": "text/x-python",
   "name": "python",
   "nbconvert_exporter": "python",
   "pygments_lexer": "ipython3",
   "version": "3.13.0"
  }
 },
 "nbformat": 4,
 "nbformat_minor": 5
}
